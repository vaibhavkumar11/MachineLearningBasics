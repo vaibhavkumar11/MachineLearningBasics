{
 "cells": [
  {
   "cell_type": "code",
   "execution_count": 0,
   "metadata": {
    "colab": {
     "autoexec": {
      "startup": false,
      "wait_interval": 0
     }
    },
    "colab_type": "code",
    "id": "xMQYfMBlv-_A"
   },
   "outputs": [],
   "source": []
  },
  {
   "cell_type": "code",
   "execution_count": 1,
   "metadata": {
    "colab": {
     "autoexec": {
      "startup": false,
      "wait_interval": 0
     },
     "base_uri": "https://localhost:8080/",
     "height": 34
    },
    "colab_type": "code",
    "executionInfo": {
     "elapsed": 1651,
     "status": "ok",
     "timestamp": 1530794694782,
     "user": {
      "displayName": "Vaibhav Kumar",
      "photoUrl": "https://lh3.googleusercontent.com/a/default-user=s128",
      "userId": "116244205712767455847"
     },
     "user_tz": -330
    },
    "id": "Y8Qrw1xXxGG-",
    "outputId": "82cfdbe2-aff1-4bc2-fc33-de217e02c94b"
   },
   "outputs": [
    {
     "name": "stderr",
     "output_type": "stream",
     "text": [
      "Using TensorFlow backend.\n"
     ]
    }
   ],
   "source": [
    "import keras"
   ]
  },
  {
   "cell_type": "code",
   "execution_count": 0,
   "metadata": {
    "colab": {
     "autoexec": {
      "startup": false,
      "wait_interval": 0
     }
    },
    "colab_type": "code",
    "id": "Pq4V5lT3xM0V"
   },
   "outputs": [],
   "source": [
    "from keras.datasets import mnist\n",
    "from keras.models import Sequential\n",
    "from keras.layers import Dense"
   ]
  },
  {
   "cell_type": "code",
   "execution_count": 0,
   "metadata": {
    "colab": {
     "autoexec": {
      "startup": false,
      "wait_interval": 0
     }
    },
    "colab_type": "code",
    "id": "T8VHmOYl-AUs"
   },
   "outputs": [],
   "source": [
    "batch_size = 100\n",
    "n_classes = 10\n",
    "epocs = 25\n",
    "n_channels = 1\n",
    "\n",
    "img_rows, img_cols = 28, 28"
   ]
  },
  {
   "cell_type": "code",
   "execution_count": 0,
   "metadata": {
    "colab": {
     "autoexec": {
      "startup": false,
      "wait_interval": 0
     }
    },
    "colab_type": "code",
    "id": "PX9nkb7c9fsW"
   },
   "outputs": [],
   "source": [
    "(x_train, y_train), (x_test, y_test) = mnist.load_data()"
   ]
  },
  {
   "cell_type": "code",
   "execution_count": 0,
   "metadata": {
    "colab": {
     "autoexec": {
      "startup": false,
      "wait_interval": 0
     }
    },
    "colab_type": "code",
    "id": "a4k2ZPj0BLff"
   },
   "outputs": [],
   "source": [
    "y_train = keras.utils.to_categorical(y_train, n_classes)\n",
    "y_test = keras.utils.to_categorical(y_test, n_classes)"
   ]
  },
  {
   "cell_type": "code",
   "execution_count": 8,
   "metadata": {
    "colab": {
     "autoexec": {
      "startup": false,
      "wait_interval": 0
     },
     "base_uri": "https://localhost:8080/",
     "height": 34
    },
    "colab_type": "code",
    "executionInfo": {
     "elapsed": 1288,
     "status": "ok",
     "timestamp": 1530794703333,
     "user": {
      "displayName": "Vaibhav Kumar",
      "photoUrl": "https://lh3.googleusercontent.com/a/default-user=s128",
      "userId": "116244205712767455847"
     },
     "user_tz": -330
    },
    "id": "gNw5_Tf2DASp",
    "outputId": "bc5f7d7d-01e3-4ac7-def0-ceea96719e60"
   },
   "outputs": [
    {
     "data": {
      "text/plain": [
       "(1, 28, 28)"
      ]
     },
     "execution_count": 8,
     "metadata": {
      "tags": []
     },
     "output_type": "execute_result"
    }
   ],
   "source": [
    "x_train = x_train.reshape(x_train.shape[0], n_channels, img_rows, img_cols)\n",
    "x_test = x_test.reshape(x_test.shape[0],n_channels, img_rows, img_cols)\n",
    "input_shape = (n_channels, img_rows, img_cols)"
   ]
  },
  {
   "cell_type": "code",
   "execution_count": 0,
   "metadata": {
    "colab": {
     "autoexec": {
      "startup": false,
      "wait_interval": 0
     }
    },
    "colab_type": "code",
    "id": "dpMd2v_NDDAr"
   },
   "outputs": [],
   "source": [
    "x_train = x_train.astype('float32')\n",
    "x_test = x_test.astype('float32')"
   ]
  },
  {
   "cell_type": "code",
   "execution_count": 0,
   "metadata": {
    "colab": {
     "autoexec": {
      "startup": false,
      "wait_interval": 0
     }
    },
    "colab_type": "code",
    "id": "dFUew8O3Dstp"
   },
   "outputs": [],
   "source": [
    "x_train = x_train / 255\n",
    "x_test = x_test / 255"
   ]
  },
  {
   "cell_type": "code",
   "execution_count": 0,
   "metadata": {
    "colab": {
     "autoexec": {
      "startup": false,
      "wait_interval": 0
     }
    },
    "colab_type": "code",
    "id": "6VKBhmU2E917"
   },
   "outputs": [],
   "source": [
    "model = Sequential()\n",
    "model.add(keras.layers.Conv2D(32, kernel_size=(5,5), padding='same', strides = (1,1), activation='relu', input_shape = input_shape ))\n",
    "model.add(keras.layers.MaxPooling2D(pool_size=(2, 2), padding='same'))\n",
    "model.add(keras.layers.Conv2D(64, kernel_size=(5,5), padding='same', strides = (1,1), activation='relu'))\n",
    "model.add(keras.layers.MaxPooling2D(pool_size=(2, 2), padding='same'))\n",
    "model.add(keras.layers.Flatten())\n",
    "model.add(Dense(1024, activation='relu'))\n",
    "model.add(keras.layers.Dropout(0.2))\n",
    "model.add(Dense(n_classes, activation='softmax'))"
   ]
  },
  {
   "cell_type": "code",
   "execution_count": 0,
   "metadata": {
    "colab": {
     "autoexec": {
      "startup": false,
      "wait_interval": 0
     }
    },
    "colab_type": "code",
    "id": "oju03UhmJNsl"
   },
   "outputs": [],
   "source": [
    "model.compile(loss='categorical_crossentropy', optimizer='adam', metrics=['accuracy'])"
   ]
  },
  {
   "cell_type": "code",
   "execution_count": 21,
   "metadata": {
    "colab": {
     "autoexec": {
      "startup": false,
      "wait_interval": 0
     },
     "base_uri": "https://localhost:8080/",
     "height": 920
    },
    "colab_type": "code",
    "executionInfo": {
     "elapsed": 157650,
     "status": "ok",
     "timestamp": 1530794875831,
     "user": {
      "displayName": "Vaibhav Kumar",
      "photoUrl": "https://lh3.googleusercontent.com/a/default-user=s128",
      "userId": "116244205712767455847"
     },
     "user_tz": -330
    },
    "id": "4-CsHaGEJt-8",
    "outputId": "fc4a4010-deb0-4340-a596-f3c47e6e07bd"
   },
   "outputs": [
    {
     "name": "stdout",
     "output_type": "stream",
     "text": [
      "Train on 60000 samples, validate on 10000 samples\n",
      "Epoch 1/25\n",
      " - 8s - loss: 0.2454 - acc: 0.9270 - val_loss: 0.0751 - val_acc: 0.9767\n",
      "Epoch 2/25\n",
      " - 6s - loss: 0.0740 - acc: 0.9770 - val_loss: 0.0483 - val_acc: 0.9838\n",
      "Epoch 3/25\n",
      " - 6s - loss: 0.0540 - acc: 0.9834 - val_loss: 0.0552 - val_acc: 0.9824\n",
      "Epoch 4/25\n",
      " - 6s - loss: 0.0430 - acc: 0.9867 - val_loss: 0.0459 - val_acc: 0.9852\n",
      "Epoch 5/25\n",
      " - 6s - loss: 0.0334 - acc: 0.9890 - val_loss: 0.0411 - val_acc: 0.9867\n",
      "Epoch 6/25\n",
      " - 6s - loss: 0.0288 - acc: 0.9907 - val_loss: 0.0377 - val_acc: 0.9886\n",
      "Epoch 7/25\n",
      " - 6s - loss: 0.0216 - acc: 0.9932 - val_loss: 0.0423 - val_acc: 0.9870\n",
      "Epoch 8/25\n",
      " - 6s - loss: 0.0213 - acc: 0.9928 - val_loss: 0.0402 - val_acc: 0.9877\n",
      "Epoch 9/25\n",
      " - 6s - loss: 0.0168 - acc: 0.9945 - val_loss: 0.0510 - val_acc: 0.9858\n",
      "Epoch 10/25\n",
      " - 6s - loss: 0.0159 - acc: 0.9946 - val_loss: 0.0496 - val_acc: 0.9855\n",
      "Epoch 11/25\n",
      " - 6s - loss: 0.0137 - acc: 0.9957 - val_loss: 0.0517 - val_acc: 0.9860\n",
      "Epoch 12/25\n",
      " - 6s - loss: 0.0134 - acc: 0.9954 - val_loss: 0.0482 - val_acc: 0.9866\n",
      "Epoch 13/25\n",
      " - 6s - loss: 0.0117 - acc: 0.9962 - val_loss: 0.0457 - val_acc: 0.9879\n",
      "Epoch 14/25\n",
      " - 6s - loss: 0.0109 - acc: 0.9969 - val_loss: 0.0552 - val_acc: 0.9874\n",
      "Epoch 15/25\n",
      " - 6s - loss: 0.0085 - acc: 0.9974 - val_loss: 0.0450 - val_acc: 0.9883\n",
      "Epoch 16/25\n",
      " - 6s - loss: 0.0121 - acc: 0.9962 - val_loss: 0.0372 - val_acc: 0.9896\n",
      "Epoch 17/25\n",
      " - 6s - loss: 0.0093 - acc: 0.9969 - val_loss: 0.0406 - val_acc: 0.9890\n",
      "Epoch 18/25\n",
      " - 6s - loss: 0.0080 - acc: 0.9974 - val_loss: 0.0465 - val_acc: 0.9896\n",
      "Epoch 19/25\n",
      " - 6s - loss: 0.0076 - acc: 0.9977 - val_loss: 0.0575 - val_acc: 0.9883\n",
      "Epoch 20/25\n",
      " - 6s - loss: 0.0096 - acc: 0.9971 - val_loss: 0.0701 - val_acc: 0.9846\n",
      "Epoch 21/25\n",
      " - 6s - loss: 0.0090 - acc: 0.9973 - val_loss: 0.0673 - val_acc: 0.9860\n",
      "Epoch 22/25\n",
      " - 6s - loss: 0.0082 - acc: 0.9974 - val_loss: 0.0472 - val_acc: 0.9903\n",
      "Epoch 23/25\n",
      " - 6s - loss: 0.0045 - acc: 0.9987 - val_loss: 0.0504 - val_acc: 0.9907\n",
      "Epoch 24/25\n",
      " - 6s - loss: 0.0045 - acc: 0.9986 - val_loss: 0.0607 - val_acc: 0.9889\n",
      "Epoch 25/25\n",
      " - 6s - loss: 0.0083 - acc: 0.9975 - val_loss: 0.0653 - val_acc: 0.9882\n"
     ]
    },
    {
     "data": {
      "text/plain": [
       "<keras.callbacks.History at 0x7f93bdc8f320>"
      ]
     },
     "execution_count": 21,
     "metadata": {
      "tags": []
     },
     "output_type": "execute_result"
    }
   ],
   "source": [
    "model.fit(x_train, y_train, batch_size=batch_size, epochs=epocs, validation_data=(x_test, y_test), verbose=2)"
   ]
  },
  {
   "cell_type": "code",
   "execution_count": 22,
   "metadata": {
    "colab": {
     "autoexec": {
      "startup": false,
      "wait_interval": 0
     },
     "base_uri": "https://localhost:8080/",
     "height": 34
    },
    "colab_type": "code",
    "executionInfo": {
     "elapsed": 1977,
     "status": "ok",
     "timestamp": 1530794877903,
     "user": {
      "displayName": "Vaibhav Kumar",
      "photoUrl": "https://lh3.googleusercontent.com/a/default-user=s128",
      "userId": "116244205712767455847"
     },
     "user_tz": -330
    },
    "id": "Uk14-52sKQ_L",
    "outputId": "dac1187b-423d-482e-a128-33a6fdadf863"
   },
   "outputs": [
    {
     "name": "stdout",
     "output_type": "stream",
     "text": [
      "Baseline Error: 1.18%\n"
     ]
    }
   ],
   "source": [
    "score = model.evaluate(x_test, y_test, verbose=0)\n",
    "print(\"Baseline Error: %.2f%%\" % (100-score[1]*100))"
   ]
  }
 ],
 "metadata": {
  "accelerator": "GPU",
  "colab": {
   "collapsed_sections": [],
   "default_view": {},
   "name": "CNN_MNIST_Keras",
   "provenance": [],
   "version": "0.3.2",
   "views": {}
  },
  "kernelspec": {
   "display_name": "Python 3",
   "language": "python",
   "name": "python3"
  },
  "language_info": {
   "codemirror_mode": {
    "name": "ipython",
    "version": 3
   },
   "file_extension": ".py",
   "mimetype": "text/x-python",
   "name": "python",
   "nbconvert_exporter": "python",
   "pygments_lexer": "ipython3",
   "version": "3.6.5"
  }
 },
 "nbformat": 4,
 "nbformat_minor": 1
}
