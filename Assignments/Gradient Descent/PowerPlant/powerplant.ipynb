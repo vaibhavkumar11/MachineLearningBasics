{
 "cells": [
  {
   "cell_type": "code",
   "execution_count": 18,
   "metadata": {},
   "outputs": [
    {
     "data": {
      "text/plain": [
       "(7176, 5)"
      ]
     },
     "execution_count": 18,
     "metadata": {},
     "output_type": "execute_result"
    }
   ],
   "source": [
    "import numpy as np\n",
    "data =  np.loadtxt(\"train.csv\",delimiter=\",\")\n",
    "data.shape"
   ]
  },
  {
   "cell_type": "code",
   "execution_count": 19,
   "metadata": {},
   "outputs": [
    {
     "data": {
      "text/plain": [
       "array([[ -1.47827466e+00,  -1.24764165e+00,   1.30221067e+00,\n",
       "          7.58624590e-01,   1.62423942e+00],\n",
       "       [  2.89012041e-01,   3.06797549e-01,   6.61749044e-01,\n",
       "         -4.46921842e-01,  -4.37233891e-01],\n",
       "       [ -3.99975582e-01,  -4.21012529e-01,  -2.87207194e-01,\n",
       "          3.75010552e-01,  -1.09219167e-01],\n",
       "       ..., \n",
       "       [  1.36062192e+00,   1.18048335e+00,  -6.54382840e-01,\n",
       "         -5.83682640e-01,  -9.79450400e-01],\n",
       "       [ -4.36097263e-01,   9.29089763e-04,   7.84140927e-01,\n",
       "         -6.59584883e-01,   3.23269996e-01],\n",
       "       [  1.40209496e+00,   6.07960340e-01,  -4.31394890e-01,\n",
       "         -1.73110573e+00,  -5.84315226e-01]])"
      ]
     },
     "execution_count": 19,
     "metadata": {},
     "output_type": "execute_result"
    }
   ],
   "source": [
    "from sklearn import preprocessing\n",
    "data = preprocessing.scale(data)\n",
    "data"
   ]
  },
  {
   "cell_type": "code",
   "execution_count": null,
   "metadata": {
    "collapsed": true
   },
   "outputs": [],
   "source": []
  },
  {
   "cell_type": "code",
   "execution_count": 20,
   "metadata": {
    "collapsed": true
   },
   "outputs": [],
   "source": [
    "X = data[:,0:4]\n",
    "Y = data[:,4:]\n"
   ]
  },
  {
   "cell_type": "code",
   "execution_count": 9,
   "metadata": {
    "collapsed": true
   },
   "outputs": [],
   "source": [
    "def cost(X, Y, m,c):\n",
    "    total_cost = 0\n",
    "    M = X.shape[0]\n",
    "    for i in range(X.shape[0]):\n",
    "        total_cost += (1/M)*((Y[i] - (m * X[i]).sum() - c)**2)\n",
    "    return total_cost"
   ]
  },
  {
   "cell_type": "code",
   "execution_count": 10,
   "metadata": {
    "collapsed": true
   },
   "outputs": [],
   "source": [
    "def step_gradient(X, Y, learning_rate, m,c):\n",
    "    m_slope = np.zeros(X.shape[1])\n",
    "    c_slope = 0\n",
    "    M = X.shape[0]\n",
    "    new_m = np.zeros(X.shape[1])\n",
    "    for i in range(M):\n",
    "        for j in range(X.shape[1]):\n",
    "            x = X[i][j]\n",
    "            y = Y[i]\n",
    "            m_slope[j] += -(2/M) * (y - (m * X[i]).sum() - c) * x\n",
    "            c_slope += -(2/M) * (y - (m * X[i]).sum() - c)   \n",
    "            \n",
    "    for i in range(X.shape[1]):\n",
    "        new_m[i] = m[i] - learning_rate*m_slope[i]\n",
    "    \n",
    "    new_c = c - learning_rate*c_slope\n",
    "    \n",
    "    return new_m,new_c"
   ]
  },
  {
   "cell_type": "code",
   "execution_count": 11,
   "metadata": {
    "collapsed": true
   },
   "outputs": [],
   "source": [
    "def grad_descent(X,Y,learning_rate,iterations):\n",
    "    m=np.zeros(X.shape[1])\n",
    "    c=0\n",
    "    for i in range(iterations):\n",
    "        m,c = step_gradient(X,Y,learning_rate,m,c)\n",
    "        print(\" Cost at \",i, \"iteration : \", cost(X, Y, m,c))\n",
    "    \n",
    "    print(\"Cost at end : \", cost(X, Y,m,c))\n",
    "    return m,c"
   ]
  },
  {
   "cell_type": "code",
   "execution_count": 23,
   "metadata": {
    "collapsed": true
   },
   "outputs": [],
   "source": [
    "def run():\n",
    "    learning_rate = 0.001\n",
    "    iterations = 50\n",
    "    m,c = grad_descent(X,Y,learning_rate,iterations)\n",
    "    print(m,c)\n",
    "    return m,c"
   ]
  },
  {
   "cell_type": "code",
   "execution_count": 24,
   "metadata": {},
   "outputs": [
    {
     "name": "stdout",
     "output_type": "stream",
     "text": [
      " Cost at  0 iteration :  [ 0.99169795]\n",
      " Cost at  1 iteration :  [ 0.98347579]\n",
      " Cost at  2 iteration :  [ 0.97533276]\n",
      " Cost at  3 iteration :  [ 0.96726808]\n",
      " Cost at  4 iteration :  [ 0.95928099]\n",
      " Cost at  5 iteration :  [ 0.95137074]\n",
      " Cost at  6 iteration :  [ 0.94353657]\n",
      " Cost at  7 iteration :  [ 0.93577776]\n",
      " Cost at  8 iteration :  [ 0.92809356]\n",
      " Cost at  9 iteration :  [ 0.92048325]\n",
      " Cost at  10 iteration :  [ 0.91294611]\n",
      " Cost at  11 iteration :  [ 0.90548143]\n",
      " Cost at  12 iteration :  [ 0.8980885]\n",
      " Cost at  13 iteration :  [ 0.89076664]\n",
      " Cost at  14 iteration :  [ 0.88351513]\n",
      " Cost at  15 iteration :  [ 0.87633332]\n",
      " Cost at  16 iteration :  [ 0.8692205]\n",
      " Cost at  17 iteration :  [ 0.86217602]\n",
      " Cost at  18 iteration :  [ 0.85519921]\n",
      " Cost at  19 iteration :  [ 0.84828941]\n",
      " Cost at  20 iteration :  [ 0.84144597]\n",
      " Cost at  21 iteration :  [ 0.83466824]\n",
      " Cost at  22 iteration :  [ 0.82795559]\n",
      " Cost at  23 iteration :  [ 0.82130738]\n",
      " Cost at  24 iteration :  [ 0.81472299]\n",
      " Cost at  25 iteration :  [ 0.80820179]\n",
      " Cost at  26 iteration :  [ 0.80174318]\n",
      " Cost at  27 iteration :  [ 0.79534653]\n",
      " Cost at  28 iteration :  [ 0.78901126]\n",
      " Cost at  29 iteration :  [ 0.78273677]\n",
      " Cost at  30 iteration :  [ 0.77652245]\n",
      " Cost at  31 iteration :  [ 0.77036774]\n",
      " Cost at  32 iteration :  [ 0.76427204]\n",
      " Cost at  33 iteration :  [ 0.75823479]\n",
      " Cost at  34 iteration :  [ 0.75225541]\n",
      " Cost at  35 iteration :  [ 0.74633335]\n",
      " Cost at  36 iteration :  [ 0.74046805]\n",
      " Cost at  37 iteration :  [ 0.73465896]\n",
      " Cost at  38 iteration :  [ 0.72890552]\n",
      " Cost at  39 iteration :  [ 0.7232072]\n",
      " Cost at  40 iteration :  [ 0.71756347]\n",
      " Cost at  41 iteration :  [ 0.71197379]\n",
      " Cost at  42 iteration :  [ 0.70643764]\n",
      " Cost at  43 iteration :  [ 0.7009545]\n",
      " Cost at  44 iteration :  [ 0.69552384]\n",
      " Cost at  45 iteration :  [ 0.69014517]\n",
      " Cost at  46 iteration :  [ 0.68481798]\n",
      " Cost at  47 iteration :  [ 0.67954177]\n",
      " Cost at  48 iteration :  [ 0.67431603]\n",
      " Cost at  49 iteration :  [ 0.66914029]\n",
      "Cost at end :  [ 0.66914029]\n",
      "[-0.08502757 -0.07781521  0.04561613  0.03370872] [  1.29751017e-14]\n"
     ]
    }
   ],
   "source": [
    "m,c = run()"
   ]
  },
  {
   "cell_type": "code",
   "execution_count": 25,
   "metadata": {
    "collapsed": true
   },
   "outputs": [],
   "source": [
    "def predict(x_test,m,c):\n",
    "    total = np.zeros(x_test.shape[0])\n",
    "    for j in range(x_test.shape[0]):\n",
    "        for i in range(X.shape[1]):\n",
    "            total[j] += m[i]*x_test[j][i]\n",
    "        total[j] += c\n",
    "    return total"
   ]
  },
  {
   "cell_type": "code",
   "execution_count": 26,
   "metadata": {
    "collapsed": true
   },
   "outputs": [],
   "source": [
    "data2 =  np.loadtxt(\"test.csv\",delimiter=\",\")"
   ]
  },
  {
   "cell_type": "code",
   "execution_count": 27,
   "metadata": {},
   "outputs": [
    {
     "data": {
      "text/plain": [
       "array([ 45.19519644,  44.94402796,  40.41226731, ...,  41.90514882,\n",
       "        43.12666122,  42.80815503])"
      ]
     },
     "execution_count": 27,
     "metadata": {},
     "output_type": "execute_result"
    }
   ],
   "source": [
    "x_test = data2[:,0:4]\n",
    "y_test = predict(x_test,m,c)\n",
    "y_test"
   ]
  },
  {
   "cell_type": "code",
   "execution_count": null,
   "metadata": {
    "collapsed": true
   },
   "outputs": [],
   "source": [
    "np.savetxt(\"result13.csv\",y_test, fmt='%.5f')"
   ]
  }
 ],
 "metadata": {
  "kernelspec": {
   "display_name": "Python 3",
   "language": "python",
   "name": "python3"
  },
  "language_info": {
   "codemirror_mode": {
    "name": "ipython",
    "version": 3
   },
   "file_extension": ".py",
   "mimetype": "text/x-python",
   "name": "python",
   "nbconvert_exporter": "python",
   "pygments_lexer": "ipython3",
   "version": "3.6.3"
  }
 },
 "nbformat": 4,
 "nbformat_minor": 2
}
