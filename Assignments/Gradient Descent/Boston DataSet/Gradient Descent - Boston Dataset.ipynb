{
 "cells": [
  {
   "cell_type": "markdown",
   "metadata": {},
   "source": [
    "## Gradient Descent - Boston Dataset\n",
    "\n",
    "generic GD +preprocessing features"
   ]
  },
  {
   "cell_type": "code",
   "execution_count": 26,
   "metadata": {},
   "outputs": [],
   "source": [
    "import numpy as np\n",
    "\n",
    "test_data=np.loadtxt(\"boston_test_data.csv\",delimiter=\",\")\n",
    "train_data= np.loadtxt(\"boston_train_data.csv\",delimiter=\",\")\n",
    "\n",
    "\n",
    "\n"
   ]
  },
  {
   "cell_type": "code",
   "execution_count": 27,
   "metadata": {
    "collapsed": true
   },
   "outputs": [],
   "source": [
    "train_x=train_data[:,0:13]\n",
    "train_y=train_data[:,13]"
   ]
  },
  {
   "cell_type": "code",
   "execution_count": 28,
   "metadata": {},
   "outputs": [
    {
     "data": {
      "text/plain": [
       "array([[-0.40784991, -0.48772236, -1.2660231 , ..., -0.30309415,\n",
       "         0.41057102, -1.09799011],\n",
       "       [-0.40737368, -0.48772236,  0.24705682, ...,  0.1130321 ,\n",
       "         0.29116915, -0.52047412],\n",
       "       [ 0.1251786 , -0.48772236,  1.01599907, ...,  0.80657583,\n",
       "        -3.79579542,  0.89107588],\n",
       "       ..., \n",
       "       [-0.41001449,  2.08745172, -1.37837329, ..., -0.0719129 ,\n",
       "         0.39094481, -0.68167397],\n",
       "       [-0.40317611, -0.48772236, -0.37597609, ...,  1.13022958,\n",
       "         0.34007019,  0.20142086],\n",
       "       [-0.13356344, -0.48772236,  1.2319449 , ..., -1.73641788,\n",
       "        -2.93893082,  0.48877712]])"
      ]
     },
     "execution_count": 28,
     "metadata": {},
     "output_type": "execute_result"
    }
   ],
   "source": [
    "dummy_merge=np.append(train_x,test_data,axis=0)\n",
    "dummy_merge"
   ]
  },
  {
   "cell_type": "code",
   "execution_count": 29,
   "metadata": {},
   "outputs": [
    {
     "data": {
      "text/plain": [
       "(506, 13)"
      ]
     },
     "execution_count": 29,
     "metadata": {},
     "output_type": "execute_result"
    }
   ],
   "source": [
    "dummy_merge.shape"
   ]
  },
  {
   "cell_type": "code",
   "execution_count": 30,
   "metadata": {
    "collapsed": true
   },
   "outputs": [],
   "source": [
    "from sklearn import preprocessing\n",
    "poly = preprocessing.PolynomialFeatures(2)\n",
    "# poly = preprocessing.PolynomialFeatures(interaction_only=True)\n",
    "dummy_merge=poly.fit_transform(dummy_merge)"
   ]
  },
  {
   "cell_type": "code",
   "execution_count": 31,
   "metadata": {},
   "outputs": [
    {
     "data": {
      "text/plain": [
       "(506, 105)"
      ]
     },
     "execution_count": 31,
     "metadata": {},
     "output_type": "execute_result"
    }
   ],
   "source": [
    "dummy_merge.shape"
   ]
  },
  {
   "cell_type": "code",
   "execution_count": 32,
   "metadata": {},
   "outputs": [
    {
     "data": {
      "text/plain": [
       "array([[  1.        ,  -0.40784991,  -0.48772236, ...,   0.16856856,\n",
       "         -0.45080292,   1.20558228],\n",
       "       [  1.        ,  -0.40737368,  -0.48772236, ...,   0.08477947,\n",
       "         -0.15154601,   0.27089331],\n",
       "       [  1.        ,   0.1251786 ,  -0.48772236, ...,  14.40806287,\n",
       "         -3.38234174,   0.79401622],\n",
       "       ..., \n",
       "       [  1.        ,  -0.41001449,   2.08745172, ...,   0.15283784,\n",
       "         -0.2664969 ,   0.4646794 ],\n",
       "       [  1.        ,  -0.40317611,  -0.48772236, ...,   0.11564773,\n",
       "          0.06849723,   0.04057036],\n",
       "       [  1.        ,  -0.13356344,  -0.48772236, ...,   8.63731436,\n",
       "         -1.43648214,   0.23890307]])"
      ]
     },
     "execution_count": 32,
     "metadata": {},
     "output_type": "execute_result"
    }
   ],
   "source": [
    "dummy_merge"
   ]
  },
  {
   "cell_type": "code",
   "execution_count": 33,
   "metadata": {},
   "outputs": [
    {
     "data": {
      "text/plain": [
       "array([[ 0.        , -0.40784991, -0.48772236, ..., -0.27495639,\n",
       "        -0.06574531,  0.13063592],\n",
       "       [ 0.        , -0.40737368, -0.48772236, ..., -0.30266564,\n",
       "         0.16649811, -0.46330607],\n",
       "       [ 0.        ,  0.1251786 , -0.48772236, ...,  4.43407881,\n",
       "        -2.34081592, -0.13089104],\n",
       "       ..., \n",
       "       [ 0.        , -0.41001449,  2.08745172, ..., -0.28015857,\n",
       "         0.07728852, -0.34016597],\n",
       "       [ 0.        , -0.40317611, -0.48772236, ..., -0.29245743,\n",
       "         0.33726641, -0.60966328],\n",
       "       [ 0.        , -0.13356344, -0.48772236, ...,  2.52567833,\n",
       "        -0.83069845, -0.48363406]])"
      ]
     },
     "execution_count": 33,
     "metadata": {},
     "output_type": "execute_result"
    }
   ],
   "source": [
    "from sklearn import preprocessing\n",
    "dummy_merge=preprocessing.scale(dummy_merge)  #this converges very fast in GD\n",
    "dummy_merge\n",
    "\n",
    "# min_max_scaler_object = preprocessing.MinMaxScaler()\n",
    "# dummy_merge= min_max_scaler_object.fit_transform(dummy_merge)"
   ]
  },
  {
   "cell_type": "code",
   "execution_count": 34,
   "metadata": {},
   "outputs": [
    {
     "data": {
      "text/plain": [
       "(506, 104)"
      ]
     },
     "execution_count": 34,
     "metadata": {},
     "output_type": "execute_result"
    }
   ],
   "source": [
    "dummy_merge=dummy_merge[:,1:105]\n",
    "dummy_merge.shape"
   ]
  },
  {
   "cell_type": "code",
   "execution_count": 35,
   "metadata": {
    "collapsed": true
   },
   "outputs": [],
   "source": [
    "dummy_merge=np.column_stack((dummy_merge,np.ones((506,), dtype=int)))"
   ]
  },
  {
   "cell_type": "code",
   "execution_count": 36,
   "metadata": {},
   "outputs": [
    {
     "data": {
      "text/plain": [
       "(506, 105)"
      ]
     },
     "execution_count": 36,
     "metadata": {},
     "output_type": "execute_result"
    }
   ],
   "source": [
    "dummy_merge.shape"
   ]
  },
  {
   "cell_type": "code",
   "execution_count": 37,
   "metadata": {
    "collapsed": true
   },
   "outputs": [],
   "source": [
    "  train_x=dummy_merge[0:379,:]"
   ]
  },
  {
   "cell_type": "code",
   "execution_count": 38,
   "metadata": {
    "collapsed": true
   },
   "outputs": [],
   "source": [
    "  test_data=dummy_merge[379:506,:]"
   ]
  },
  {
   "cell_type": "code",
   "execution_count": 39,
   "metadata": {
    "collapsed": true
   },
   "outputs": [],
   "source": [
    "def step_gd(train_x, train_y, learning_rate, slope):\n",
    "    new_slope=np.zeros(train_x.shape[1])\n",
    "    \n",
    "    M=train_x.shape[0]\n",
    "   \n",
    "    for i in range(M):\n",
    "        for j in range(train_x.shape[1]):\n",
    "            x=train_x[i][j]\n",
    "            y=train_y[i]\n",
    "            new_slope[j] = -(2/M) * (y - (slope * train_x[i]).sum()) * x\n",
    "        slope = slope - (learning_rate * new_slope)\n",
    "    return slope"
   ]
  },
  {
   "cell_type": "code",
   "execution_count": 40,
   "metadata": {
    "collapsed": true
   },
   "outputs": [],
   "source": [
    "def cost(train_x,train_y,slope ):\n",
    "    total_cost=0\n",
    "     \n",
    "    for i in range(train_x.shape[0]):\n",
    "        Y=train_y[i]\n",
    "        X=train_x[i]\n",
    "        total_cost += (1/train_x.shape[0])*((Y-(slope*X).sum())**2)\n",
    "                                            \n",
    "    return total_cost"
   ]
  },
  {
   "cell_type": "code",
   "execution_count": 41,
   "metadata": {
    "collapsed": true
   },
   "outputs": [],
   "source": [
    "def gradient_descent(train_x,train_y, learning_rate, num_itr):\n",
    "    slope=np.zeros(train_x.shape[1])\n",
    "  \n",
    "    for i in range(num_itr):\n",
    "        slope=step_gd(train_x,train_y, learning_rate,slope)\n",
    "        print(i, \" Cost: \", cost(train_x,train_y, slope))\n",
    "    return slope"
   ]
  },
  {
   "cell_type": "code",
   "execution_count": 42,
   "metadata": {},
   "outputs": [
    {
     "name": "stdout",
     "output_type": "stream",
     "text": [
      "0  Cost:  211.848530614\n",
      "1  Cost:  82.7512041001\n",
      "2  Cost:  37.9102140796\n",
      "3  Cost:  21.3321603398\n",
      "4  Cost:  14.8658118889\n",
      "5  Cost:  12.145766673\n",
      "6  Cost:  10.8692715\n",
      "7  Cost:  10.1813221098\n",
      "8  Cost:  9.75342022708\n",
      "9  Cost:  9.45309431537\n",
      "10  Cost:  9.22318607082\n",
      "11  Cost:  9.03677100863\n",
      "12  Cost:  8.87981753041\n",
      "13  Cost:  8.74423797211\n",
      "14  Cost:  8.62494488289\n",
      "15  Cost:  8.5185118165\n",
      "16  Cost:  8.42251119103\n",
      "17  Cost:  8.33515745026\n",
      "18  Cost:  8.25509899106\n",
      "19  Cost:  8.18128870265\n",
      "20  Cost:  8.11289929765\n",
      "21  Cost:  8.04926583044\n",
      "22  Cost:  7.98984555197\n",
      "23  Cost:  7.93418923993\n",
      "24  Cost:  7.88192034219\n",
      "25  Cost:  7.83271955975\n",
      "26  Cost:  7.78631328579\n",
      "27  Cost:  7.74246482141\n",
      "28  Cost:  7.70096761871\n",
      "29  Cost:  7.66164002317\n",
      "30  Cost:  7.62432113763\n",
      "31  Cost:  7.58886753519\n",
      "32  Cost:  7.55515062077\n",
      "33  Cost:  7.52305449385\n",
      "34  Cost:  7.49247420155\n",
      "35  Cost:  7.46331429883\n",
      "36  Cost:  7.43548765227\n",
      "37  Cost:  7.40891443845\n",
      "38  Cost:  7.38352129932\n",
      "39  Cost:  7.35924062493\n",
      "40  Cost:  7.33600994034\n",
      "41  Cost:  7.31377137821\n",
      "42  Cost:  7.29247122256\n",
      "43  Cost:  7.27205951178\n",
      "44  Cost:  7.25248969142\n",
      "45  Cost:  7.23371830901\n",
      "46  Cost:  7.21570474455\n",
      "47  Cost:  7.19841097149\n",
      "48  Cost:  7.18180134388\n",
      "49  Cost:  7.16584240603\n",
      "50  Cost:  7.15050272184\n",
      "51  Cost:  7.13575272104\n",
      "52  Cost:  7.12156456044\n",
      "53  Cost:  7.1079119982\n",
      "54  Cost:  7.09477027971\n",
      "55  Cost:  7.0821160336\n",
      "56  Cost:  7.06992717692\n",
      "57  Cost:  7.05818282832\n",
      "58  Cost:  7.04686322854\n",
      "59  Cost:  7.03594966732\n",
      "60  Cost:  7.0254244162\n",
      "61  Cost:  7.01527066651\n",
      "62  Cost:  7.0054724722\n",
      "63  Cost:  6.99601469688\n",
      "64  Cost:  6.98688296488\n",
      "65  Cost:  6.97806361577\n",
      "66  Cost:  6.9695436622\n",
      "67  Cost:  6.96131075067\n",
      "68  Cost:  6.95335312503\n",
      "69  Cost:  6.94565959249\n",
      "70  Cost:  6.93821949187\n",
      "71  Cost:  6.93102266401\n",
      "72  Cost:  6.92405942408\n",
      "73  Cost:  6.91732053571\n",
      "74  Cost:  6.91079718675\n",
      "75  Cost:  6.90448096658\n",
      "76  Cost:  6.8983638448\n",
      "77  Cost:  6.89243815128\n",
      "78  Cost:  6.88669655741\n",
      "79  Cost:  6.88113205847\n",
      "80  Cost:  6.87573795704\n",
      "81  Cost:  6.87050784748\n",
      "82  Cost:  6.86543560116\n",
      "83  Cost:  6.86051535273\n",
      "84  Cost:  6.85574148703\n",
      "85  Cost:  6.85110862684\n",
      "86  Cost:  6.84661162125\n",
      "87  Cost:  6.84224553476\n",
      "88  Cost:  6.83800563693\n",
      "89  Cost:  6.83388739261\n",
      "90  Cost:  6.82988645268\n",
      "91  Cost:  6.82599864537\n",
      "92  Cost:  6.82221996797\n",
      "93  Cost:  6.81854657899\n",
      "94  Cost:  6.81497479078\n",
      "95  Cost:  6.81150106249\n",
      "96  Cost:  6.80812199342\n",
      "97  Cost:  6.80483431673\n",
      "98  Cost:  6.8016348934\n",
      "99  Cost:  6.79852070662\n",
      "slope is  [ -1.46749606e-02   8.38068874e-02   3.89515176e-01   1.03167258e+00\n",
      "  -1.55480286e+00   3.12444937e+00  -1.49590699e+00  -2.94506721e+00\n",
      "   1.52723884e+00  -1.41585501e+00  -4.79950020e-01   7.86199139e-01\n",
      "  -3.57623932e+00   8.71345477e-01   1.73884802e-02   3.89110813e-02\n",
      "   2.49816373e+00  -3.61285629e-01   8.36356183e-01   2.33910365e-01\n",
      "   2.65878598e-01  -8.11053333e-01   1.86589794e-01  -5.81454703e-01\n",
      "  -3.51541306e-01   9.49032290e-01   1.40706712e-01  -1.63281857e-01\n",
      "  -6.04696844e-02   3.43681052e-01  -2.46241563e-01  -3.38844854e-01\n",
      "  -7.76986570e-01  -4.05689570e-02   1.27456579e+00  -1.07509599e-01\n",
      "   1.48055394e-01  -1.04343828e+00   7.88288087e-01  -3.68143966e-01\n",
      "   2.18393359e+00   9.19006143e-01   2.66218112e-01   1.19918717e+00\n",
      "  -4.68938231e-01  -4.44722871e-02  -6.25886512e-01  -3.46022663e-02\n",
      "  -6.18397391e-01   1.03167258e+00  -7.54530954e-01  -1.18137190e+00\n",
      "   5.85392535e-02   3.84626015e-01  -6.22094890e-01   1.60672469e-01\n",
      "  -1.01016187e-01   1.57110136e-01  -5.65805157e-01  -5.99118949e-01\n",
      "   5.76028003e-01  -1.51984986e+00   8.51778056e-01  -1.42486702e+00\n",
      "   2.77488501e-01  -1.06505409e+00   5.50786206e-02   5.17642783e-01\n",
      "   1.49821346e-01  -9.88616276e-01   3.90685030e-01  -1.09060114e+00\n",
      "  -1.24421534e+00  -1.28934308e+00  -3.48222018e-01  -1.49405369e+00\n",
      "   4.26823726e-01  -7.47382045e-02   1.67178096e+00  -5.69486266e-01\n",
      "  -2.44250380e-01  -1.07065934e+00  -1.19137560e+00   2.28756227e+00\n",
      "  -1.45120916e+00  -8.92166571e-01  -4.40643746e-01  -1.22280847e+00\n",
      "   1.25058363e+00  -1.43967001e+00   1.22282447e+00   3.70728005e-01\n",
      "  -3.25722971e-01  -1.26815542e+00  -4.16613445e-01   1.73972416e+00\n",
      "  -8.02223781e-01  -1.24759719e+00   2.07234866e-01   9.70224686e-03\n",
      "  -2.58182160e-01  -1.50255225e+00  -9.03472588e-01   1.02639597e+00\n",
      "   2.24971778e+01]\n"
     ]
    }
   ],
   "source": [
    "learning_rate=0.25\n",
    "\n",
    "num_itr=100\n",
    "slope =gradient_descent(train_x,train_y,learning_rate, num_itr)\n",
    "print(\"slope is \",slope)"
   ]
  },
  {
   "cell_type": "code",
   "execution_count": 523,
   "metadata": {
    "collapsed": true
   },
   "outputs": [],
   "source": [
    "# test_data=np.column_stack((test_data,np.ones((127,), dtype=int)))"
   ]
  },
  {
   "cell_type": "code",
   "execution_count": 43,
   "metadata": {
    "collapsed": true
   },
   "outputs": [],
   "source": [
    "y_test=np.matmul(test_data,slope)"
   ]
  },
  {
   "cell_type": "code",
   "execution_count": 44,
   "metadata": {
    "collapsed": true
   },
   "outputs": [],
   "source": [
    "Boston_sol = open('file'+'_2', 'w')\n",
    "np.savetxt('Boston_sol.csv',y_test,delimiter=',')"
   ]
  },
  {
   "cell_type": "code",
   "execution_count": 526,
   "metadata": {
    "collapsed": true
   },
   "outputs": [],
   "source": [
    "# 499  Cost:  12.4916836271 11.5 //6.32\n",
    "# slope is  [ -0.67753909   2.17814114  -1.22757613   2.0875015   -3.46169661\n",
    "#   16.22446432  -0.16112207  -3.25878835   2.65439915  -4.19320857\n",
    "#   -3.35839431   2.64436698 -15.94497764   0.04666306   2.28280696\n",
    "#    0.04996824   4.46327185  -0.86051305   0.59659524  -0.29613791\n",
    "#    3.01204094  -0.80079769  -0.18495637  -0.02573943   1.26426964\n",
    "#   -0.22053119   1.77162982   0.27176731   1.19621928   1.7703928\n",
    "#    1.82250976  -0.56260472   1.54726817   0.7823978    0.73944968\n",
    "#    2.22592316   1.61913735   2.56560961   2.13390926   0.89337613\n",
    "#    1.73610485  -3.78244643   3.6784105    0.87329514   1.80539581\n",
    "#    0.77736679  -1.50831108   0.91563734  -2.50761137   2.0875015\n",
    "#   -3.13590274  -0.1260848    1.66896489   0.56859556   2.18711758\n",
    "#    2.32479489   2.84555204   2.92010603  -1.80924123  -2.61515006\n",
    "#   -3.42500529  -0.95170335   3.08235325  -3.08470653  -1.76007763\n",
    "#   -0.19712412   0.56417362   0.51161972   8.37815442  -0.87919122\n",
    "#    2.34333038  -3.84771609  -4.05405765  -4.64018401   2.46777492\n",
    "#   -4.19698366   2.00398413  -0.59706134   2.40706242   1.09970586\n",
    "#   -0.6652558   -0.44036461  -3.63979076   2.70469544   0.20399942\n",
    "#    1.36229882   2.63734289   0.17963605   5.72450684  -2.01955339\n",
    "#    3.04515657   3.17161545   0.18158978  -3.44038285   0.26835018\n",
    "#    3.39149506   0.03474212  -3.69693683   0.66036779   0.09554752\n",
    "#    1.03468838  -0.65484388  -1.88670304   4.86569743   2.36214245]"
   ]
  }
 ],
 "metadata": {
  "kernelspec": {
   "display_name": "Python 3",
   "language": "python",
   "name": "python3"
  },
  "language_info": {
   "codemirror_mode": {
    "name": "ipython",
    "version": 3
   },
   "file_extension": ".py",
   "mimetype": "text/x-python",
   "name": "python",
   "nbconvert_exporter": "python",
   "pygments_lexer": "ipython3",
   "version": "3.6.3"
  }
 },
 "nbformat": 4,
 "nbformat_minor": 2
}
