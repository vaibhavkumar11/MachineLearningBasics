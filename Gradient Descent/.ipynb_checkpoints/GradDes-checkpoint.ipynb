{
 "cells": [
  {
   "cell_type": "code",
   "execution_count": 8,
   "metadata": {},
   "outputs": [],
   "source": [
    "import numpy as np\n",
    "data = np.loadtxt(\"data.csv\",delimiter=\",\")"
   ]
  },
  {
   "cell_type": "code",
   "execution_count": 9,
   "metadata": {},
   "outputs": [],
   "source": [
    "def step_gradient(points,learning_rate,m,c):\n",
    "    m_slope = 0\n",
    "    c_slope = 0\n",
    "    M = len(points)\n",
    "    for i in range(M):\n",
    "        x = points[i,0]\n",
    "        y = points[i,1]\n",
    "        m_slope += (-2/M)* (y - m * x - c)*x\n",
    "        c_slope += (-2/M)* (y - m * x - c)\n",
    "    new_m = m - learning_rate*m_slope\n",
    "    new_c = c - learning_rate*c_slope\n",
    "    return new_m, new_c"
   ]
  },
  {
   "cell_type": "code",
   "execution_count": 10,
   "metadata": {
    "collapsed": true
   },
   "outputs": [],
   "source": [
    "def cost(points,m,c):\n",
    "    total_cost = 0\n",
    "    M = len(points)\n",
    "    for i in range(M):\n",
    "        x = points[i, 0]\n",
    "        y = points[i, 1]\n",
    "        total_cost += (1/M)*((y - m*x - c)**2)\n",
    "    return total_cost"
   ]
  },
  {
   "cell_type": "code",
   "execution_count": null,
   "metadata": {
    "collapsed": true
   },
   "outputs": [],
   "source": []
  },
  {
   "cell_type": "code",
   "execution_count": 11,
   "metadata": {
    "collapsed": true
   },
   "outputs": [],
   "source": [
    "def gd(points,learning_rate,iterations):\n",
    "    m=0\n",
    "    c=0\n",
    "    for i in range(iterations):\n",
    "        m,c = step_gradient(points,learning_rate,m,c)\n",
    "        print(i, \" Cost: \", cost(points, m, c))\n",
    "    return m,c"
   ]
  },
  {
   "cell_type": "code",
   "execution_count": 20,
   "metadata": {
    "collapsed": true
   },
   "outputs": [],
   "source": [
    "def run():\n",
    "    learning_rate=0.00008\n",
    "    iterations=50\n",
    "    m,c = gd(data,learning_rate,iterations)\n",
    "    print(m,c)"
   ]
  },
  {
   "cell_type": "code",
   "execution_count": 22,
   "metadata": {},
   "outputs": [
    {
     "name": "stdout",
     "output_type": "stream",
     "text": [
      "0  Cost:  1484.58655741\n",
      "1  Cost:  457.854257574\n",
      "2  Cost:  199.509985726\n",
      "3  Cost:  134.505910582\n",
      "4  Cost:  118.149693422\n",
      "5  Cost:  114.03414906\n",
      "6  Cost:  112.998577317\n",
      "7  Cost:  112.737981876\n",
      "8  Cost:  112.672384359\n",
      "9  Cost:  112.655851815\n",
      "10  Cost:  112.651664898\n",
      "11  Cost:  112.650584362\n",
      "12  Cost:  112.650285447\n",
      "13  Cost:  112.650183203\n",
      "14  Cost:  112.650130445\n",
      "15  Cost:  112.650090139\n",
      "16  Cost:  112.650052967\n",
      "17  Cost:  112.650016584\n",
      "18  Cost:  112.649980399\n",
      "19  Cost:  112.649944265\n",
      "20  Cost:  112.649908144\n",
      "21  Cost:  112.649872027\n",
      "22  Cost:  112.649835911\n",
      "23  Cost:  112.649799796\n",
      "24  Cost:  112.649763681\n",
      "25  Cost:  112.649727567\n",
      "26  Cost:  112.649691454\n",
      "27  Cost:  112.649655341\n",
      "28  Cost:  112.649619228\n",
      "29  Cost:  112.649583117\n",
      "30  Cost:  112.649547005\n",
      "31  Cost:  112.649510895\n",
      "32  Cost:  112.649474784\n",
      "33  Cost:  112.649438675\n",
      "34  Cost:  112.649402566\n",
      "35  Cost:  112.649366457\n",
      "36  Cost:  112.649330349\n",
      "37  Cost:  112.649294242\n",
      "38  Cost:  112.649258135\n",
      "39  Cost:  112.649222028\n",
      "40  Cost:  112.649185922\n",
      "41  Cost:  112.649149817\n",
      "42  Cost:  112.649113712\n",
      "43  Cost:  112.649077608\n",
      "44  Cost:  112.649041505\n",
      "45  Cost:  112.649005401\n",
      "46  Cost:  112.648969299\n",
      "47  Cost:  112.648933197\n",
      "48  Cost:  112.648897095\n",
      "49  Cost:  112.648860994\n",
      "1.47886174156 0.0320719207993\n"
     ]
    }
   ],
   "source": [
    "run()"
   ]
  }
 ],
 "metadata": {
  "kernelspec": {
   "display_name": "Python 3",
   "language": "python",
   "name": "python3"
  },
  "language_info": {
   "codemirror_mode": {
    "name": "ipython",
    "version": 3
   },
   "file_extension": ".py",
   "mimetype": "text/x-python",
   "name": "python",
   "nbconvert_exporter": "python",
   "pygments_lexer": "ipython3",
   "version": "3.6.3"
  }
 },
 "nbformat": 4,
 "nbformat_minor": 2
}
