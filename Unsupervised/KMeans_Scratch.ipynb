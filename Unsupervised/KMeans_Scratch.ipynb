{
 "cells": [
  {
   "cell_type": "code",
   "execution_count": 1,
   "metadata": {},
   "outputs": [],
   "source": [
    "import numpy as np\n",
    "import matplotlib.pyplot as plt"
   ]
  },
  {
   "cell_type": "code",
   "execution_count": 11,
   "metadata": {},
   "outputs": [],
   "source": [
    "X = np.array([[1,2], [1.5,1.8], [3,5], [3,2.5], [1,0.6], [3.5,4.4]])"
   ]
  },
  {
   "cell_type": "code",
   "execution_count": 10,
   "metadata": {},
   "outputs": [
    {
     "data": {
      "image/png": "[encoded data removed]",
      "text/plain": [
       "<Figure size 432x288 with 1 Axes>"
      ]
     },
     "metadata": {},
     "output_type": "display_data"
    }
   ],
   "source": [
    "plt.scatter(X[:,0], X[:,1])\n",
    "plt.show()"
   ]
  },
  {
   "cell_type": "code",
   "execution_count": 20,
   "metadata": {},
   "outputs": [],
   "source": [
    "def fit(data, k=2 , max_iterations = 100):\n",
    "    #Initializing the means\n",
    "    means = []\n",
    "    for i in range(k):\n",
    "        means.append(data[i])\n",
    "    for j in range(max_iterations):\n",
    "        #Initializing the clusters\n",
    "        clusters = []\n",
    "        for i in range(k):\n",
    "            clusters.append([])\n",
    "        #Adding data points to respective clusters\n",
    "        for point in data:\n",
    "            #Find distance of a point from the mean of each clusters\n",
    "            distances = [((point - mean)**2).sum() for mean in means]\n",
    "            #Finding the mean with minimum distance\n",
    "            minDistance = min(distances)\n",
    "            #Index of mean with minimum distance\n",
    "            index = distances.index(minDistance)\n",
    "            #Adding the point to the respective cluster\n",
    "            clusters[index].append(point)\n",
    "\n",
    "        #Finding the new mean values \n",
    "        unchanged = False\n",
    "        for i in range(k):\n",
    "            new_mean = np.mean(clusters[i], axis = 0)\n",
    "            if not np.array_equal(means[i], new_mean):\n",
    "                unchanged = True\n",
    "            means[i] = new_mean\n",
    "        if not unchanged:\n",
    "            break\n",
    "    return means"
   ]
  },
  {
   "cell_type": "code",
   "execution_count": 25,
   "metadata": {},
   "outputs": [],
   "source": [
    "def predict(test_data, means):\n",
    "    predictions = []\n",
    "    for point in test_data:\n",
    "        distances = [((point - m)**2).sum() for m in means]\n",
    "        minDistance = min(distances)\n",
    "        index = distances.index(minDistance)\n",
    "        predictions.append(index)\n",
    "    return predictions"
   ]
  },
  {
   "cell_type": "code",
   "execution_count": 22,
   "metadata": {},
   "outputs": [
    {
     "data": {
      "text/plain": [
       "[array([1.16666667, 1.46666667]), array([3.16666667, 3.96666667])]"
      ]
     },
     "execution_count": 22,
     "metadata": {},
     "output_type": "execute_result"
    }
   ],
   "source": [
    "fit(X)"
   ]
  },
  {
   "cell_type": "code",
   "execution_count": 24,
   "metadata": {},
   "outputs": [
    {
     "data": {
      "text/plain": [
       "[0, 0, 1, 1, 0, 1]"
      ]
     },
     "execution_count": 24,
     "metadata": {},
     "output_type": "execute_result"
    }
   ],
   "source": [
    "means = fit(X)\n",
    "predict(X, means)"
   ]
  }
 ],
 "metadata": {
  "kernelspec": {
   "display_name": "Python 3",
   "language": "python",
   "name": "python3"
  },
  "language_info": {
   "codemirror_mode": {
    "name": "ipython",
    "version": 3
   },
   "file_extension": ".py",
   "mimetype": "text/x-python",
   "name": "python",
   "nbconvert_exporter": "python",
   "pygments_lexer": "ipython3",
   "version": "3.6.5"
  }
 },
 "nbformat": 4,
 "nbformat_minor": 2
}
