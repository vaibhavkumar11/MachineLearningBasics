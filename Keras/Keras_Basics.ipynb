{
 "cells": [
  {
   "cell_type": "code",
   "execution_count": 10,
   "metadata": {},
   "outputs": [],
   "source": [
    "from keras.models import Sequential\n",
    "from keras.layers import Dense"
   ]
  },
  {
   "cell_type": "code",
   "execution_count": 11,
   "metadata": {},
   "outputs": [],
   "source": [
    "# Creating a model\n",
    "model = Sequential()"
   ]
  },
  {
   "cell_type": "code",
   "execution_count": 12,
   "metadata": {},
   "outputs": [],
   "source": [
    "layer1 = Dense(units = 32, activation='relu',input_dim = 30 )\n",
    "model.add(layer1)"
   ]
  },
  {
   "cell_type": "code",
   "execution_count": 13,
   "metadata": {},
   "outputs": [],
   "source": [
    "model.add(Dense(units=16, activation='relu'))\n",
    "model.add(Dense(units=1, activation='sigmoid'))"
   ]
  },
  {
   "cell_type": "code",
   "execution_count": 14,
   "metadata": {},
   "outputs": [],
   "source": [
    "model.compile(optimizer='adam', loss='binary_crossentropy', metrics = ['accuracy'])"
   ]
  },
  {
   "cell_type": "code",
   "execution_count": 15,
   "metadata": {},
   "outputs": [],
   "source": [
    "from sklearn import datasets\n",
    "data = datasets.load_breast_cancer()"
   ]
  },
  {
   "cell_type": "code",
   "execution_count": 16,
   "metadata": {},
   "outputs": [],
   "source": [
    "from sklearn.model_selection import train_test_split\n",
    "x_train, x_test, y_train, y_test = train_test_split(data.data, data.target, random_state = 0, test_size = 0.3 )"
   ]
  },
  {
   "cell_type": "code",
   "execution_count": 17,
   "metadata": {},
   "outputs": [],
   "source": [
    "from sklearn.preprocessing import StandardScaler\n",
    "sc = StandardScaler()\n",
    "x_train = sc.fit_transform(x_train)\n",
    "x_test = sc.transform(x_test)"
   ]
  },
  {
   "cell_type": "code",
   "execution_count": 18,
   "metadata": {},
   "outputs": [
    {
     "name": "stdout",
     "output_type": "stream",
     "text": [
      "Train on 398 samples, validate on 171 samples\n",
      "Epoch 1/40\n",
      "398/398 [==============================] - 0s 770us/step - loss: 0.6689 - acc: 0.5854 - val_loss: 0.6276 - val_acc: 0.7251\n",
      "Epoch 2/40\n",
      "398/398 [==============================] - 0s 58us/step - loss: 0.5692 - acc: 0.8141 - val_loss: 0.5350 - val_acc: 0.8713\n",
      "Epoch 3/40\n",
      "398/398 [==============================] - 0s 58us/step - loss: 0.4865 - acc: 0.9070 - val_loss: 0.4585 - val_acc: 0.8889\n",
      "Epoch 4/40\n",
      "398/398 [==============================] - 0s 70us/step - loss: 0.4171 - acc: 0.9271 - val_loss: 0.3916 - val_acc: 0.9006\n",
      "Epoch 5/40\n",
      "398/398 [==============================] - 0s 51us/step - loss: 0.3513 - acc: 0.9397 - val_loss: 0.3323 - val_acc: 0.9006\n",
      "Epoch 6/40\n",
      "398/398 [==============================] - 0s 46us/step - loss: 0.2929 - acc: 0.9497 - val_loss: 0.2809 - val_acc: 0.9064\n",
      "Epoch 7/40\n",
      "398/398 [==============================] - 0s 58us/step - loss: 0.2437 - acc: 0.9573 - val_loss: 0.2398 - val_acc: 0.9181\n",
      "Epoch 8/40\n",
      "398/398 [==============================] - 0s 55us/step - loss: 0.2062 - acc: 0.9573 - val_loss: 0.2075 - val_acc: 0.9240\n",
      "Epoch 9/40\n",
      "398/398 [==============================] - 0s 72us/step - loss: 0.1769 - acc: 0.9573 - val_loss: 0.1830 - val_acc: 0.9415\n",
      "Epoch 10/40\n",
      "398/398 [==============================] - 0s 57us/step - loss: 0.1544 - acc: 0.9623 - val_loss: 0.1646 - val_acc: 0.9474\n",
      "Epoch 11/40\n",
      "398/398 [==============================] - 0s 51us/step - loss: 0.1388 - acc: 0.9623 - val_loss: 0.1491 - val_acc: 0.9474\n",
      "Epoch 12/40\n",
      "398/398 [==============================] - 0s 40us/step - loss: 0.1258 - acc: 0.9673 - val_loss: 0.1369 - val_acc: 0.9532\n",
      "Epoch 13/40\n",
      "398/398 [==============================] - 0s 58us/step - loss: 0.1155 - acc: 0.9724 - val_loss: 0.1269 - val_acc: 0.9649\n",
      "Epoch 14/40\n",
      "398/398 [==============================] - 0s 69us/step - loss: 0.1071 - acc: 0.9724 - val_loss: 0.1186 - val_acc: 0.9708\n",
      "Epoch 15/40\n",
      "398/398 [==============================] - 0s 49us/step - loss: 0.0999 - acc: 0.9749 - val_loss: 0.1117 - val_acc: 0.9649\n",
      "Epoch 16/40\n",
      "398/398 [==============================] - 0s 52us/step - loss: 0.0942 - acc: 0.9724 - val_loss: 0.1057 - val_acc: 0.9649\n",
      "Epoch 17/40\n",
      "398/398 [==============================] - 0s 80us/step - loss: 0.0893 - acc: 0.9724 - val_loss: 0.1009 - val_acc: 0.9649\n",
      "Epoch 18/40\n",
      "398/398 [==============================] - 0s 48us/step - loss: 0.0849 - acc: 0.9749 - val_loss: 0.0967 - val_acc: 0.9708\n",
      "Epoch 19/40\n",
      "398/398 [==============================] - 0s 41us/step - loss: 0.0811 - acc: 0.9749 - val_loss: 0.0932 - val_acc: 0.9708\n",
      "Epoch 20/40\n",
      "398/398 [==============================] - 0s 76us/step - loss: 0.0779 - acc: 0.9774 - val_loss: 0.0900 - val_acc: 0.9708\n",
      "Epoch 21/40\n",
      "398/398 [==============================] - 0s 49us/step - loss: 0.0747 - acc: 0.9799 - val_loss: 0.0875 - val_acc: 0.9708\n",
      "Epoch 22/40\n",
      "398/398 [==============================] - 0s 47us/step - loss: 0.0721 - acc: 0.9824 - val_loss: 0.0854 - val_acc: 0.9649\n",
      "Epoch 23/40\n",
      "398/398 [==============================] - 0s 60us/step - loss: 0.0695 - acc: 0.9824 - val_loss: 0.0840 - val_acc: 0.9708\n",
      "Epoch 24/40\n",
      "398/398 [==============================] - 0s 71us/step - loss: 0.0674 - acc: 0.9824 - val_loss: 0.0828 - val_acc: 0.9708\n",
      "Epoch 25/40\n",
      "398/398 [==============================] - 0s 66us/step - loss: 0.0653 - acc: 0.9824 - val_loss: 0.0815 - val_acc: 0.9708\n",
      "Epoch 26/40\n",
      "398/398 [==============================] - 0s 58us/step - loss: 0.0633 - acc: 0.9824 - val_loss: 0.0805 - val_acc: 0.9708\n",
      "Epoch 27/40\n",
      "398/398 [==============================] - 0s 70us/step - loss: 0.0615 - acc: 0.9824 - val_loss: 0.0797 - val_acc: 0.9708\n",
      "Epoch 28/40\n",
      "398/398 [==============================] - 0s 99us/step - loss: 0.0599 - acc: 0.9824 - val_loss: 0.0796 - val_acc: 0.9649\n",
      "Epoch 29/40\n",
      "398/398 [==============================] - 0s 64us/step - loss: 0.0582 - acc: 0.9824 - val_loss: 0.0794 - val_acc: 0.9708\n",
      "Epoch 30/40\n",
      "398/398 [==============================] - 0s 56us/step - loss: 0.0567 - acc: 0.9824 - val_loss: 0.0790 - val_acc: 0.9708\n",
      "Epoch 31/40\n",
      "398/398 [==============================] - 0s 78us/step - loss: 0.0553 - acc: 0.9824 - val_loss: 0.0787 - val_acc: 0.9708\n",
      "Epoch 32/40\n",
      "398/398 [==============================] - 0s 64us/step - loss: 0.0538 - acc: 0.9824 - val_loss: 0.0786 - val_acc: 0.9708\n",
      "Epoch 33/40\n",
      "398/398 [==============================] - 0s 66us/step - loss: 0.0526 - acc: 0.9849 - val_loss: 0.0792 - val_acc: 0.9708\n",
      "Epoch 34/40\n",
      "398/398 [==============================] - 0s 84us/step - loss: 0.0511 - acc: 0.9849 - val_loss: 0.0794 - val_acc: 0.9708\n",
      "Epoch 35/40\n",
      "398/398 [==============================] - 0s 67us/step - loss: 0.0500 - acc: 0.9874 - val_loss: 0.0801 - val_acc: 0.9708\n",
      "Epoch 36/40\n",
      "398/398 [==============================] - 0s 59us/step - loss: 0.0487 - acc: 0.9874 - val_loss: 0.0804 - val_acc: 0.9708\n",
      "Epoch 37/40\n",
      "398/398 [==============================] - 0s 60us/step - loss: 0.0475 - acc: 0.9874 - val_loss: 0.0813 - val_acc: 0.9708\n",
      "Epoch 38/40\n",
      "398/398 [==============================] - 0s 117us/step - loss: 0.0467 - acc: 0.9874 - val_loss: 0.0811 - val_acc: 0.9708\n",
      "Epoch 39/40\n",
      "398/398 [==============================] - 0s 73us/step - loss: 0.0455 - acc: 0.9874 - val_loss: 0.0816 - val_acc: 0.9708\n",
      "Epoch 40/40\n",
      "398/398 [==============================] - 0s 87us/step - loss: 0.0446 - acc: 0.9874 - val_loss: 0.0839 - val_acc: 0.9708\n"
     ]
    },
    {
     "data": {
      "text/plain": [
       "<keras.callbacks.History at 0x7f859e32dbe0>"
      ]
     },
     "execution_count": 18,
     "metadata": {},
     "output_type": "execute_result"
    }
   ],
   "source": [
    "model.fit(x_train, y_train, epochs=40, batch_size = 50, validation_data=[x_test, y_test])"
   ]
  },
  {
   "cell_type": "code",
   "execution_count": 19,
   "metadata": {},
   "outputs": [
    {
     "name": "stdout",
     "output_type": "stream",
     "text": [
      "171/171 [==============================] - 0s 38us/step\n"
     ]
    }
   ],
   "source": [
    "predict = model.predict(x_test)\n",
    "score = model.evaluate(x_test, y_test)"
   ]
  },
  {
   "cell_type": "code",
   "execution_count": 20,
   "metadata": {},
   "outputs": [
    {
     "data": {
      "text/plain": [
       "[0.08388562272820207, 0.9707602339181286]"
      ]
     },
     "execution_count": 20,
     "metadata": {},
     "output_type": "execute_result"
    }
   ],
   "source": [
    "score"
   ]
  }
 ],
 "metadata": {
  "kernelspec": {
   "display_name": "Python 3",
   "language": "python",
   "name": "python3"
  },
  "language_info": {
   "codemirror_mode": {
    "name": "ipython",
    "version": 3
   },
   "file_extension": ".py",
   "mimetype": "text/x-python",
   "name": "python",
   "nbconvert_exporter": "python",
   "pygments_lexer": "ipython3",
   "version": "3.6.5"
  }
 },
 "nbformat": 4,
 "nbformat_minor": 2
}
