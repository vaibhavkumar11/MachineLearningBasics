{
 "cells": [
  {
   "cell_type": "code",
   "execution_count": 14,
   "metadata": {},
   "outputs": [],
   "source": [
    "import numpy as np"
   ]
  },
  {
   "cell_type": "code",
   "execution_count": 15,
   "metadata": {},
   "outputs": [],
   "source": [
    "x = np.array([[0, 0], [1,0], [0,1], [1,1]])\n",
    "y = np.array([[0,0,0,1]]).T\n",
    "lr = 0.01"
   ]
  },
  {
   "cell_type": "code",
   "execution_count": 16,
   "metadata": {},
   "outputs": [],
   "source": [
    "def sigmoid(z):\n",
    "    return 1/(1 + np.exp(-z))"
   ]
  },
  {
   "cell_type": "code",
   "execution_count": 17,
   "metadata": {},
   "outputs": [],
   "source": [
    "def derivativeSig(z):\n",
    "    return sigmoid(z)*(1 - sigmoid(z))"
   ]
  },
  {
   "cell_type": "code",
   "execution_count": 18,
   "metadata": {},
   "outputs": [
    {
     "data": {
      "text/plain": [
       "(array([[ 0.38788347,  0.31623846],\n",
       "        [ 0.58660747, -0.835854  ]]), array([[-0.12433648,  0.71458722]]))"
      ]
     },
     "execution_count": 18,
     "metadata": {},
     "output_type": "execute_result"
    }
   ],
   "source": [
    "# Weights, bias for hidden layer\n",
    "weights_hid = 2 * np.random.random((2,2)) - 1\n",
    "bias_hid = 2 * np.random.random((1, 2)) - 1\n",
    "weights_hid, bias_hid"
   ]
  },
  {
   "cell_type": "code",
   "execution_count": 19,
   "metadata": {},
   "outputs": [
    {
     "data": {
      "text/plain": [
       "(array([[0.04784759],\n",
       "        [0.06614023]]), array([[-0.49030298]]))"
      ]
     },
     "execution_count": 19,
     "metadata": {},
     "output_type": "execute_result"
    }
   ],
   "source": [
    "# Weights, bias for output layer\n",
    "weights_output = 2 * np.random.random((2, 1)) - 1\n",
    "bias_output    = 2 * np.random.random((1,1)) - 1\n",
    "weights_output, bias_output"
   ]
  },
  {
   "cell_type": "code",
   "execution_count": 36,
   "metadata": {},
   "outputs": [
    {
     "data": {
      "text/plain": [
       "array([[0.01070447],\n",
       "       [0.01110938],\n",
       "       [0.01182594],\n",
       "       [0.98150262]])"
      ]
     },
     "execution_count": 36,
     "metadata": {},
     "output_type": "execute_result"
    }
   ],
   "source": [
    "for i in range(10000):\n",
    "    output0 = x\n",
    "    input_hid = np.dot(output0, weights_hid) + bias_hid\n",
    "    output_hid = sigmoid(input_hid)\n",
    "    input_output_layer = np.dot(output_hid, weights_output) + bias_output \n",
    "    output = sigmoid(input_output_layer)\n",
    "\n",
    "    first_term_output = output - y\n",
    "    second_term_output = derivativeSig(input_output_layer)\n",
    "    first_two_output = first_term_output * second_term_output\n",
    "\n",
    "    first_term_hidden = np.dot(first_two_output, weights_output.T)\n",
    "    second_term_hidden = derivativeSig(input_hid)\n",
    "    first_two_hidden = first_term_hidden * second_term_hidden\n",
    "\n",
    "    changes_output = np.dot(output_hid.T, first_two_output)\n",
    "    changes_output_bias = np.sum(first_two_output, axis=1, keepdims=True)\n",
    "\n",
    "    changes_hidden = np.dot(output0.T, first_two_hidden)\n",
    "    changes_hidden_bias = np.sum(first_two_hidden, axis = 1, keepdims=True)\n",
    "\n",
    "    weights_output = weights_output - lr*changes_output\n",
    "    bias_output = bias_output - lr*changes_output_bias\n",
    "\n",
    "    weights_hid = weights_hid - lr*changes_hidden\n",
    "    bias_hid = bias_hid - lr*changes_hidden_bias\n",
    "\n",
    "output0 = x\n",
    "input_hid = np.dot(output0, weights_hid) + bias_hid\n",
    "output_hid = sigmoid(input_hid)\n",
    "input_output_layer = np.dot(output_hid, weights_output) + bias_output \n",
    "output = sigmoid(input_output_layer)\n",
    "output"
   ]
  }
 ],
 "metadata": {
  "kernelspec": {
   "display_name": "Python 3",
   "language": "python",
   "name": "python3"
  },
  "language_info": {
   "codemirror_mode": {
    "name": "ipython",
    "version": 3
   },
   "file_extension": ".py",
   "mimetype": "text/x-python",
   "name": "python",
   "nbconvert_exporter": "python",
   "pygments_lexer": "ipython3",
   "version": "3.6.5"
  }
 },
 "nbformat": 4,
 "nbformat_minor": 2
}
