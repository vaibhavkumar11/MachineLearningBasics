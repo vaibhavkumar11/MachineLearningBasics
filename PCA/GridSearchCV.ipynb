{
 "cells": [
  {
   "cell_type": "code",
   "execution_count": 2,
   "metadata": {},
   "outputs": [],
   "source": [
    "from sklearn import svm, datasets\n",
    "from sklearn.model_selection import train_test_split, GridSearchCV\n",
    "from sklearn.neighbors import KNeighborsClassifier"
   ]
  },
  {
   "cell_type": "code",
   "execution_count": 3,
   "metadata": {},
   "outputs": [],
   "source": [
    "data  = datasets.load_iris()\n",
    "x = data.data\n",
    "y = data.target"
   ]
  },
  {
   "cell_type": "code",
   "execution_count": 4,
   "metadata": {},
   "outputs": [],
   "source": [
    "x_train, x_test, y_train, y_test = train_test_split(x, y, random_state = 0)"
   ]
  },
  {
   "cell_type": "code",
   "execution_count": 6,
   "metadata": {},
   "outputs": [
    {
     "data": {
      "text/plain": [
       "GridSearchCV(cv=None, error_score='raise',\n",
       "       estimator=KNeighborsClassifier(algorithm='auto', leaf_size=30, metric='minkowski',\n",
       "           metric_params=None, n_jobs=1, n_neighbors=5, p=2,\n",
       "           weights='uniform'),\n",
       "       fit_params=None, iid=True, n_jobs=1,\n",
       "       param_grid={'n_neighbors': [3, 5, 7, 9, 11]},\n",
       "       pre_dispatch='2*n_jobs', refit=True, return_train_score='warn',\n",
       "       scoring=None, verbose=0)"
      ]
     },
     "execution_count": 6,
     "metadata": {},
     "output_type": "execute_result"
    }
   ],
   "source": [
    "clf1 = KNeighborsClassifier()\n",
    "grid = {'n_neighbors' : [3,5,7,9,11] }\n",
    "abc1 = GridSearchCV(clf1, grid)\n",
    "abc1.fit(x_train, y_train)"
   ]
  },
  {
   "cell_type": "code",
   "execution_count": 10,
   "metadata": {},
   "outputs": [
    {
     "data": {
      "text/plain": [
       "KNeighborsClassifier(algorithm='auto', leaf_size=30, metric='minkowski',\n",
       "           metric_params=None, n_jobs=1, n_neighbors=3, p=2,\n",
       "           weights='uniform')"
      ]
     },
     "execution_count": 10,
     "metadata": {},
     "output_type": "execute_result"
    }
   ],
   "source": [
    "abc1.best_estimator_"
   ]
  },
  {
   "cell_type": "code",
   "execution_count": 11,
   "metadata": {},
   "outputs": [
    {
     "name": "stderr",
     "output_type": "stream",
     "text": [
      "/home/hellraiser/anaconda3/lib/python3.6/site-packages/sklearn/utils/deprecation.py:122: FutureWarning: You are accessing a training score ('split0_train_score'), which will not be available by default any more in 0.21. If you need training scores, please set return_train_score=True\n",
      "  warnings.warn(*warn_args, **warn_kwargs)\n",
      "/home/hellraiser/anaconda3/lib/python3.6/site-packages/sklearn/utils/deprecation.py:122: FutureWarning: You are accessing a training score ('split1_train_score'), which will not be available by default any more in 0.21. If you need training scores, please set return_train_score=True\n",
      "  warnings.warn(*warn_args, **warn_kwargs)\n",
      "/home/hellraiser/anaconda3/lib/python3.6/site-packages/sklearn/utils/deprecation.py:122: FutureWarning: You are accessing a training score ('split2_train_score'), which will not be available by default any more in 0.21. If you need training scores, please set return_train_score=True\n",
      "  warnings.warn(*warn_args, **warn_kwargs)\n",
      "/home/hellraiser/anaconda3/lib/python3.6/site-packages/sklearn/utils/deprecation.py:122: FutureWarning: You are accessing a training score ('mean_train_score'), which will not be available by default any more in 0.21. If you need training scores, please set return_train_score=True\n",
      "  warnings.warn(*warn_args, **warn_kwargs)\n",
      "/home/hellraiser/anaconda3/lib/python3.6/site-packages/sklearn/utils/deprecation.py:122: FutureWarning: You are accessing a training score ('std_train_score'), which will not be available by default any more in 0.21. If you need training scores, please set return_train_score=True\n",
      "  warnings.warn(*warn_args, **warn_kwargs)\n"
     ]
    },
    {
     "data": {
      "text/plain": [
       "{'mean_fit_time': array([0.00070294, 0.00068347, 0.00036089, 0.00034936, 0.00031956]),\n",
       " 'std_fit_time': array([7.53986794e-05, 5.86494628e-05, 2.70625801e-05, 6.75871701e-05,\n",
       "        1.16351089e-05]),\n",
       " 'mean_score_time': array([0.00151412, 0.0012761 , 0.0006992 , 0.00068768, 0.00067949]),\n",
       " 'std_score_time': array([4.14815274e-04, 2.16145462e-04, 3.85031037e-05, 1.40398968e-04,\n",
       "        4.41484433e-05]),\n",
       " 'param_n_neighbors': masked_array(data=[3, 5, 7, 9, 11],\n",
       "              mask=[False, False, False, False, False],\n",
       "        fill_value='?',\n",
       "             dtype=object),\n",
       " 'params': [{'n_neighbors': 3},\n",
       "  {'n_neighbors': 5},\n",
       "  {'n_neighbors': 7},\n",
       "  {'n_neighbors': 9},\n",
       "  {'n_neighbors': 11}],\n",
       " 'split0_test_score': array([0.92307692, 0.94871795, 0.94871795, 0.97435897, 0.97435897]),\n",
       " 'split1_test_score': array([1.        , 0.97297297, 1.        , 0.97297297, 0.97297297]),\n",
       " 'split2_test_score': array([0.94444444, 0.94444444, 0.91666667, 0.91666667, 0.91666667]),\n",
       " 'mean_test_score': array([0.95535714, 0.95535714, 0.95535714, 0.95535714, 0.95535714]),\n",
       " 'std_test_score': array([0.03255024, 0.0124957 , 0.03398395, 0.02663473, 0.02663473]),\n",
       " 'rank_test_score': array([1, 1, 1, 1, 1], dtype=int32),\n",
       " 'split0_train_score': array([0.98630137, 0.98630137, 0.97260274, 0.98630137, 0.98630137]),\n",
       " 'split1_train_score': array([0.96      , 0.94666667, 0.96      , 0.96      , 0.94666667]),\n",
       " 'split2_train_score': array([0.97368421, 0.97368421, 0.98684211, 0.98684211, 0.97368421]),\n",
       " 'mean_train_score': array([0.97332853, 0.96888408, 0.97314828, 0.97771449, 0.96888408]),\n",
       " 'std_train_score': array([0.01074043, 0.01653296, 0.01096503, 0.01252798, 0.01653296])}"
      ]
     },
     "execution_count": 11,
     "metadata": {},
     "output_type": "execute_result"
    }
   ],
   "source": [
    "abc1.cv_results_"
   ]
  },
  {
   "cell_type": "code",
   "execution_count": 12,
   "metadata": {},
   "outputs": [
    {
     "data": {
      "text/plain": [
       "GridSearchCV(cv=None, error_score='raise',\n",
       "       estimator=SVC(C=1.0, cache_size=200, class_weight=None, coef0=0.0,\n",
       "  decision_function_shape='ovr', degree=3, gamma='auto', kernel='rbf',\n",
       "  max_iter=-1, probability=False, random_state=None, shrinking=True,\n",
       "  tol=0.001, verbose=False),\n",
       "       fit_params=None, iid=True, n_jobs=1,\n",
       "       param_grid={'C': [10, 100, 1000, 5000, 10000], 'gamma': [0.1, 0.01, 0.001, 0.005, 0.0001]},\n",
       "       pre_dispatch='2*n_jobs', refit=True, return_train_score='warn',\n",
       "       scoring=None, verbose=0)"
      ]
     },
     "execution_count": 12,
     "metadata": {},
     "output_type": "execute_result"
    }
   ],
   "source": [
    "clf2 = svm.SVC()\n",
    "grid2 = {'C' : [10,100,1000,5000,10000],\n",
    "     'gamma' : [0.1,0.01,0.001,0.005,0.0001]  \n",
    "        }\n",
    "abc2 = GridSearchCV(clf2, grid2)\n",
    "abc2.fit(x_train, y_train)"
   ]
  },
  {
   "cell_type": "code",
   "execution_count": 14,
   "metadata": {},
   "outputs": [
    {
     "data": {
      "text/plain": [
       "SVC(C=100, cache_size=200, class_weight=None, coef0=0.0,\n",
       "  decision_function_shape='ovr', degree=3, gamma=0.1, kernel='rbf',\n",
       "  max_iter=-1, probability=False, random_state=None, shrinking=True,\n",
       "  tol=0.001, verbose=False)"
      ]
     },
     "execution_count": 14,
     "metadata": {},
     "output_type": "execute_result"
    }
   ],
   "source": [
    "abc2.best_estimator_"
   ]
  },
  {
   "cell_type": "code",
   "execution_count": 15,
   "metadata": {},
   "outputs": [
    {
     "name": "stderr",
     "output_type": "stream",
     "text": [
      "/home/hellraiser/anaconda3/lib/python3.6/site-packages/sklearn/utils/deprecation.py:122: FutureWarning: You are accessing a training score ('split0_train_score'), which will not be available by default any more in 0.21. If you need training scores, please set return_train_score=True\n",
      "  warnings.warn(*warn_args, **warn_kwargs)\n",
      "/home/hellraiser/anaconda3/lib/python3.6/site-packages/sklearn/utils/deprecation.py:122: FutureWarning: You are accessing a training score ('split1_train_score'), which will not be available by default any more in 0.21. If you need training scores, please set return_train_score=True\n",
      "  warnings.warn(*warn_args, **warn_kwargs)\n",
      "/home/hellraiser/anaconda3/lib/python3.6/site-packages/sklearn/utils/deprecation.py:122: FutureWarning: You are accessing a training score ('split2_train_score'), which will not be available by default any more in 0.21. If you need training scores, please set return_train_score=True\n",
      "  warnings.warn(*warn_args, **warn_kwargs)\n",
      "/home/hellraiser/anaconda3/lib/python3.6/site-packages/sklearn/utils/deprecation.py:122: FutureWarning: You are accessing a training score ('mean_train_score'), which will not be available by default any more in 0.21. If you need training scores, please set return_train_score=True\n",
      "  warnings.warn(*warn_args, **warn_kwargs)\n",
      "/home/hellraiser/anaconda3/lib/python3.6/site-packages/sklearn/utils/deprecation.py:122: FutureWarning: You are accessing a training score ('std_train_score'), which will not be available by default any more in 0.21. If you need training scores, please set return_train_score=True\n",
      "  warnings.warn(*warn_args, **warn_kwargs)\n"
     ]
    },
    {
     "data": {
      "text/plain": [
       "{'mean_fit_time': array([0.00091537, 0.00077836, 0.00088565, 0.00061234, 0.00081118,\n",
       "        0.00058047, 0.00041056, 0.00073187, 0.00051387, 0.00048709,\n",
       "        0.00037702, 0.00036263, 0.00034769, 0.00036661, 0.00038107,\n",
       "        0.0003864 , 0.00037901, 0.00039252, 0.00040253, 0.00042605,\n",
       "        0.00042224, 0.00041405, 0.00039132, 0.00037344, 0.00035135]),\n",
       " 'std_fit_time': array([1.24977635e-04, 1.59691017e-05, 1.10772965e-04, 1.67644414e-05,\n",
       "        1.61347952e-04, 1.79180652e-04, 3.95132793e-06, 6.31889702e-05,\n",
       "        1.86659298e-04, 1.75600854e-05, 1.42072047e-05, 1.08334072e-05,\n",
       "        8.82327717e-06, 2.23938669e-06, 1.46432922e-05, 2.65208447e-05,\n",
       "        2.97436667e-05, 3.40998770e-05, 1.14909071e-05, 1.27459206e-05,\n",
       "        2.04011645e-05, 3.65002848e-05, 6.76067915e-05, 3.40158694e-06,\n",
       "        1.72249059e-05]),\n",
       " 'mean_score_time': array([0.00047588, 0.00043019, 0.00054383, 0.00038743, 0.00036526,\n",
       "        0.00033696, 0.00027672, 0.00040929, 0.00024358, 0.00030096,\n",
       "        0.00020957, 0.00020417, 0.00020742, 0.00020583, 0.00022491,\n",
       "        0.00020703, 0.00020361, 0.00025845, 0.00023707, 0.00025026,\n",
       "        0.00023365, 0.00021736, 0.0002176 , 0.00020409, 0.00021164]),\n",
       " 'std_score_time': array([5.90376911e-05, 4.44560977e-05, 9.19432639e-05, 9.70225945e-05,\n",
       "        6.82679729e-05, 1.29134325e-04, 4.54099603e-05, 1.08077245e-05,\n",
       "        4.22520656e-05, 4.55091601e-05, 3.13288424e-06, 1.26658896e-06,\n",
       "        1.40377058e-06, 2.34680542e-06, 6.83651389e-07, 2.92218150e-06,\n",
       "        1.52040533e-06, 5.31293751e-05, 7.69943959e-06, 1.79267238e-05,\n",
       "        2.43140197e-06, 1.10057717e-05, 1.99782187e-05, 2.80754117e-06,\n",
       "        7.39823603e-06]),\n",
       " 'param_C': masked_array(data=[10, 10, 10, 10, 10, 100, 100, 100, 100, 100, 1000,\n",
       "                    1000, 1000, 1000, 1000, 5000, 5000, 5000, 5000, 5000,\n",
       "                    10000, 10000, 10000, 10000, 10000],\n",
       "              mask=[False, False, False, False, False, False, False, False,\n",
       "                    False, False, False, False, False, False, False, False,\n",
       "                    False, False, False, False, False, False, False, False,\n",
       "                    False],\n",
       "        fill_value='?',\n",
       "             dtype=object),\n",
       " 'param_gamma': masked_array(data=[0.1, 0.01, 0.001, 0.005, 0.0001, 0.1, 0.01, 0.001,\n",
       "                    0.005, 0.0001, 0.1, 0.01, 0.001, 0.005, 0.0001, 0.1,\n",
       "                    0.01, 0.001, 0.005, 0.0001, 0.1, 0.01, 0.001, 0.005,\n",
       "                    0.0001],\n",
       "              mask=[False, False, False, False, False, False, False, False,\n",
       "                    False, False, False, False, False, False, False, False,\n",
       "                    False, False, False, False, False, False, False, False,\n",
       "                    False],\n",
       "        fill_value='?',\n",
       "             dtype=object),\n",
       " 'params': [{'C': 10, 'gamma': 0.1},\n",
       "  {'C': 10, 'gamma': 0.01},\n",
       "  {'C': 10, 'gamma': 0.001},\n",
       "  {'C': 10, 'gamma': 0.005},\n",
       "  {'C': 10, 'gamma': 0.0001},\n",
       "  {'C': 100, 'gamma': 0.1},\n",
       "  {'C': 100, 'gamma': 0.01},\n",
       "  {'C': 100, 'gamma': 0.001},\n",
       "  {'C': 100, 'gamma': 0.005},\n",
       "  {'C': 100, 'gamma': 0.0001},\n",
       "  {'C': 1000, 'gamma': 0.1},\n",
       "  {'C': 1000, 'gamma': 0.01},\n",
       "  {'C': 1000, 'gamma': 0.001},\n",
       "  {'C': 1000, 'gamma': 0.005},\n",
       "  {'C': 1000, 'gamma': 0.0001},\n",
       "  {'C': 5000, 'gamma': 0.1},\n",
       "  {'C': 5000, 'gamma': 0.01},\n",
       "  {'C': 5000, 'gamma': 0.001},\n",
       "  {'C': 5000, 'gamma': 0.005},\n",
       "  {'C': 5000, 'gamma': 0.0001},\n",
       "  {'C': 10000, 'gamma': 0.1},\n",
       "  {'C': 10000, 'gamma': 0.01},\n",
       "  {'C': 10000, 'gamma': 0.001},\n",
       "  {'C': 10000, 'gamma': 0.005},\n",
       "  {'C': 10000, 'gamma': 0.0001}],\n",
       " 'split0_test_score': array([0.94871795, 0.94871795, 0.8974359 , 0.94871795, 0.69230769,\n",
       "        0.97435897, 0.97435897, 0.94871795, 0.97435897, 0.8974359 ,\n",
       "        0.97435897, 0.92307692, 0.97435897, 0.8974359 , 0.94871795,\n",
       "        0.97435897, 0.97435897, 0.8974359 , 0.97435897, 0.97435897,\n",
       "        0.97435897, 0.97435897, 0.92307692, 0.97435897, 0.97435897]),\n",
       " 'split1_test_score': array([1.        , 1.        , 0.94594595, 0.97297297, 0.7027027 ,\n",
       "        1.        , 1.        , 1.        , 0.97297297, 0.94594595,\n",
       "        1.        , 1.        , 1.        , 1.        , 1.        ,\n",
       "        1.        , 1.        , 1.        , 1.        , 0.97297297,\n",
       "        1.        , 1.        , 1.        , 1.        , 1.        ]),\n",
       " 'split2_test_score': array([0.91666667, 0.91666667, 0.88888889, 0.91666667, 0.69444444,\n",
       "        0.91666667, 0.91666667, 0.91666667, 0.91666667, 0.88888889,\n",
       "        0.91666667, 0.91666667, 0.91666667, 0.91666667, 0.91666667,\n",
       "        0.91666667, 0.91666667, 0.91666667, 0.91666667, 0.91666667,\n",
       "        0.91666667, 0.91666667, 0.91666667, 0.91666667, 0.91666667]),\n",
       " 'mean_test_score': array([0.95535714, 0.95535714, 0.91071429, 0.94642857, 0.69642857,\n",
       "        0.96428571, 0.96428571, 0.95535714, 0.95535714, 0.91071429,\n",
       "        0.96428571, 0.94642857, 0.96428571, 0.9375    , 0.95535714,\n",
       "        0.96428571, 0.96428571, 0.9375    , 0.96428571, 0.95535714,\n",
       "        0.96428571, 0.96428571, 0.94642857, 0.96428571, 0.96428571]),\n",
       " 'std_test_score': array([0.03398395, 0.03398395, 0.02499139, 0.02278834, 0.00449256,\n",
       "        0.03443211, 0.03443211, 0.03398395, 0.02663473, 0.02499139,\n",
       "        0.03443211, 0.03771849, 0.03443211, 0.04459705, 0.03398395,\n",
       "        0.03443211, 0.03443211, 0.04459705, 0.03443211, 0.02663473,\n",
       "        0.03443211, 0.03443211, 0.03771849, 0.03443211, 0.03443211]),\n",
       " 'rank_test_score': array([12, 12, 23, 18, 25,  1,  1, 12, 12, 23,  1, 18,  1, 21, 12,  1,  1,\n",
       "        21,  1, 12,  1,  1, 18,  1,  1], dtype=int32),\n",
       " 'split0_train_score': array([0.98630137, 0.97260274, 0.93150685, 0.97260274, 0.69863014,\n",
       "        0.98630137, 0.98630137, 0.97260274, 0.97260274, 0.93150685,\n",
       "        1.        , 0.98630137, 0.98630137, 0.98630137, 0.97260274,\n",
       "        1.        , 0.98630137, 0.98630137, 0.98630137, 0.97260274,\n",
       "        1.        , 1.        , 0.98630137, 0.98630137, 0.98630137]),\n",
       " 'split1_train_score': array([0.97333333, 0.94666667, 0.94666667, 0.94666667, 0.69333333,\n",
       "        0.97333333, 0.97333333, 0.94666667, 0.96      , 0.94666667,\n",
       "        0.98666667, 0.97333333, 0.97333333, 0.97333333, 0.94666667,\n",
       "        1.        , 0.98666667, 0.97333333, 0.97333333, 0.96      ,\n",
       "        1.        , 0.98666667, 0.97333333, 0.98666667, 0.97333333]),\n",
       " 'split2_train_score': array([1.        , 1.        , 0.88157895, 0.97368421, 0.69736842,\n",
       "        1.        , 1.        , 1.        , 1.        , 0.88157895,\n",
       "        1.        , 1.        , 1.        , 1.        , 1.        ,\n",
       "        1.        , 1.        , 1.        , 1.        , 1.        ,\n",
       "        1.        , 1.        , 1.        , 1.        , 1.        ]),\n",
       " 'mean_train_score': array([0.9865449 , 0.9730898 , 0.91991749, 0.96431787, 0.69644396,\n",
       "        0.9865449 , 0.9865449 , 0.9730898 , 0.97753425, 0.91991749,\n",
       "        0.99555556, 0.9865449 , 0.9865449 , 0.9865449 , 0.9730898 ,\n",
       "        1.        , 0.99098935, 0.9865449 , 0.9865449 , 0.97753425,\n",
       "        1.        , 0.99555556, 0.9865449 , 0.99098935, 0.9865449 ]),\n",
       " 'std_train_score': array([0.01088798, 0.02177597, 0.02780693, 0.01248909, 0.00225906,\n",
       "        0.01088798, 0.01088798, 0.02177597, 0.0166981 , 0.02780693,\n",
       "        0.00628539, 0.01088798, 0.01088798, 0.01088798, 0.02177597,\n",
       "        0.        , 0.00637324, 0.01088798, 0.01088798, 0.0166981 ,\n",
       "        0.        , 0.00628539, 0.01088798, 0.00637324, 0.01088798])}"
      ]
     },
     "execution_count": 15,
     "metadata": {},
     "output_type": "execute_result"
    }
   ],
   "source": [
    "abc2.cv_results_"
   ]
  }
 ],
 "metadata": {
  "kernelspec": {
   "display_name": "Python 3",
   "language": "python",
   "name": "python3"
  },
  "language_info": {
   "codemirror_mode": {
    "name": "ipython",
    "version": 3
   },
   "file_extension": ".py",
   "mimetype": "text/x-python",
   "name": "python",
   "nbconvert_exporter": "python",
   "pygments_lexer": "ipython3",
   "version": "3.6.5"
  }
 },
 "nbformat": 4,
 "nbformat_minor": 2
}
